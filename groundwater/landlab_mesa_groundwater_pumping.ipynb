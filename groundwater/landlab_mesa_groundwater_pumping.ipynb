{
 "cells": [
  {
   "cell_type": "code",
   "execution_count": 79,
   "metadata": {},
   "outputs": [],
   "source": [
    "from landlab import RasterModelGrid, imshow_grid\n",
    "from landlab.components import GroundwaterDupuitPercolator"
   ]
  },
  {
   "cell_type": "code",
   "execution_count": 114,
   "metadata": {},
   "outputs": [],
   "source": [
    "base_depth = 22.0  # depth of aquifer base below ground level, m\n",
    "initial_water_table_depth = 2.0  # starting depth to water table, m\n",
    "dx = 100.0 # cell width, m\n",
    "pumping_rate = 0.001  # pumping rate, m3/s\n",
    "well_locations = [800, 1200]"
   ]
  },
  {
   "cell_type": "code",
   "execution_count": 115,
   "metadata": {},
   "outputs": [],
   "source": [
    "boundaries = {'top': 'closed','bottom': 'closed','right':'closed','left':'closed'}\n",
    "grid = RasterModelGrid((41, 41), xy_spacing=dx, bc=boundaries)\n",
    "\n",
    "elev = grid.add_zeros('node', 'topographic__elevation')\n",
    "\n",
    "base = grid.add_zeros('node', 'aquifer_base__elevation')\n",
    "base[:] = elev - base_depth\n",
    "\n",
    "wt = grid.add_zeros('node', 'water_table__elevation')\n",
    "wt[:] = elev - initial_water_table_depth\n",
    "\n",
    "recharge = grid.add_zeros('node', 'recharge__rate')\n",
    "recharge[well_locations] = -pumping_rate / (dx * dx)  # pumping rate, in terms of recharge"
   ]
  },
  {
   "cell_type": "code",
   "execution_count": 116,
   "metadata": {},
   "outputs": [],
   "source": [
    "K = 0.001 # hydraulic conductivity, (m/s)\n",
    "n = 0.2  # porosity, (-)\n",
    "dt = 3600.0  # time-step duration, s\n",
    "gdp = GroundwaterDupuitPercolator(\n",
    "    grid, \n",
    "    hydraulic_conductivity=K, \n",
    "    porosity=n, \n",
    "    recharge_rate=recharge,\n",
    "    regularization_f=0.01)"
   ]
  },
  {
   "cell_type": "code",
   "execution_count": 117,
   "metadata": {},
   "outputs": [],
   "source": [
    "def run_for_one_day(gdp, dt):\n",
    "    num_iter = int(3600.0 * 24 / dt)\n",
    "    for i in range(num_iter):\n",
    "        gdp.run_one_step(dt)"
   ]
  },
  {
   "cell_type": "code",
   "execution_count": 121,
   "metadata": {},
   "outputs": [],
   "source": [
    "def run_for_one_year(gdp, dt):\n",
    "    num_iter = int(365.25 * 3600.0 * 24 / dt)\n",
    "    for i in range(num_iter):\n",
    "        gdp.run_one_step(dt)"
   ]
  },
  {
   "cell_type": "code",
   "execution_count": 122,
   "metadata": {},
   "outputs": [],
   "source": [
    "run_for_one_year(gdp, dt)"
   ]
  },
  {
   "cell_type": "code",
   "execution_count": 123,
   "metadata": {},
   "outputs": [
    {
     "data": {
      "image/png": "[encoded data removed]",
      "text/plain": [
       "<Figure size 432x288 with 2 Axes>"
      ]
     },
     "metadata": {
      "needs_background": "light"
     },
     "output_type": "display_data"
    }
   ],
   "source": [
    "imshow_grid(grid, wt)"
   ]
  },
  {
   "cell_type": "markdown",
   "metadata": {},
   "source": [
    "### Aside: calculating a reasonable pumping rate in terms of recharge\n",
    "\n",
    "Suppose you're pumping 16 gallons/minute (horrible units of course). That equates to:\n",
    "\n",
    "16 gal/min x 0.00378541 m3/gal x (1/60) min/sec ="
   ]
  },
  {
   "cell_type": "code",
   "execution_count": 11,
   "metadata": {},
   "outputs": [
    {
     "data": {
      "text/plain": [
       "0.0010094426666666667"
      ]
     },
     "execution_count": 11,
     "metadata": {},
     "output_type": "execute_result"
    }
   ],
   "source": [
    "16.0 *  0.00378541 / 60.0"
   ]
  },
  {
   "cell_type": "markdown",
   "metadata": {},
   "source": [
    "...equals about 0.001 m3/s. Call that $Q_p$. The corresponding negative recharge in a cell of dimensions $\\Delta x$ by $\\Delta x$ would be\n",
    "\n",
    "$R_p = Q_p / \\Delta x^2 = 10^{-5}$ m/s"
   ]
  },
  {
   "cell_type": "code",
   "execution_count": null,
   "metadata": {},
   "outputs": [],
   "source": []
  }
 ],
 "metadata": {
  "kernelspec": {
   "display_name": "Python 3",
   "language": "python",
   "name": "python3"
  },
  "language_info": {
   "codemirror_mode": {
    "name": "ipython",
    "version": 3
   },
   "file_extension": ".py",
   "mimetype": "text/x-python",
   "name": "python",
   "nbconvert_exporter": "python",
   "pygments_lexer": "ipython3",
   "version": "3.7.6"
  }
 },
 "nbformat": 4,
 "nbformat_minor": 4
}
